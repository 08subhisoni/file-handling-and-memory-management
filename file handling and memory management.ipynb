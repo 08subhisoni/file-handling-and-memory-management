{
  "cells": [
    {
      "cell_type": "markdown",
      "metadata": {
        "id": "TqaE9AfPmLcG"
      },
      "source": [
        "1.What is the difference between interpreted and compiled languages?\n",
        "- The key difference between interpreted and compiled languages lies in how they are executed:\n",
        "\n",
        "Compiled Languages\n",
        "The code is translated into machine code before execution using a compiler.\n",
        "The entire program is compiled into an executable file, which can then run independently.\n",
        "Generally faster since the code is already translated into machine instructions.\n",
        "Examples: C, C++, Rust, Go\n",
        "Interpreted Languages\n",
        "The code is executed line by line at runtime by an interpreter.\n",
        "No separate compilation step; instead, the interpreter reads and executes the code directly.\n",
        "Generally slower than compiled languages due to real-time translation.\n",
        "Examples: Python, JavaScript, Ruby, PHP\n",
        "\n",
        "2. What is exception handling in Python?\n",
        "- Exception Handling in Python\n",
        "Exception handling in Python is a mechanism that allows a program to handle runtime errors gracefully, preventing crashes and ensuring smooth execution.\n",
        "\n",
        "3. What is the purpose of the finally block in exception handling?\n",
        "- Purpose of the finally Block in Exception Handling\n",
        "The finally block in Python is used to execute code regardless of whether an exception occurs or not. It ensures that important cleanup operations (like closing files, releasing resources, or disconnecting from databases) always happen.\n",
        "\n",
        "4.What is logging in Python?\n",
        "- Logging in Python\n",
        "Logging in Python is a built-in mechanism that allows developers to track events that happen during the execution of a program. It helps in debugging, monitoring, and error tracking by recording messages in a systematic way.\n",
        "\n",
        "5.What is the significance of the __del__ method in Python?\n",
        "- Understanding the __del__ Method in Python\n",
        "The __del__ method, also known as the destructor, is a special method in Python that is called when an object is about to be destroyed (i.e., when it is garbage collected). It allows you to release resources, such as closing files or network connections, before an object is removed from memory.\n",
        "\n",
        "6.What is the difference between import and from ... import in Python?\n",
        "- Difference Between import and from ... import in Python\n",
        "Python provides two main ways to import modules:\n",
        "1.import module_name\n",
        "- Imports the entire module.\n",
        "You must use the module name as a prefix to access its functions or variables.\n",
        "2. from module_name import something\n",
        "- Imports only specific functions, classes, or variables from a module.\n",
        "You can use them directly without the module prefix.\n",
        "\n",
        "7.How can you handle multiple exceptions in Python?\n",
        "1. Using Multiple except Blocks\n",
        "You can catch different exceptions separately and provide specific handling for each.\n",
        "2. Handling Multiple Exceptions in a Single except Block\n",
        "You can catch multiple exceptions in a single except block by using a tuple.\n",
        "3. Using a Generic except Block\n",
        "Catching all exceptions using except Exception is possible, but it's usually not recommended unless necessary.\n",
        "4. Using else and finally with Multiple Exceptions\n",
        "The else block runs if no exceptions occur.\n",
        "The finally block runs no matter what even if an exception occurs.\n",
        "\n",
        "8.What is the purpose of the with statement when handling files in Python?\n",
        "- urpose of the with Statement in File Handling\n",
        "The with statement in Python is used to manage resources like file handling efficiently. It ensures that the file is automatically closed after the block is executed, preventing resource leaks.\n",
        "\n",
        "9.What is the difference between multithreading and multiprocessing?\n",
        "- Multithreading allows a program to run multiple threads within the same process. Threads share the same memory space but execute independently.\n",
        "- Multiprocessing creates separate processes, each with its own memory space. This allows true parallel execution, making it suitable for CPU-intensive tasks.\n",
        "\n",
        "10.What are the advantages of using logging in a program?\n",
        "- Using logging in a program provides several advantages, including:\n",
        "\n",
        "1.Debugging and Troubleshooting – Logging helps track errors and unusual behavior in a program, making it easier to identify and fix issues.\n",
        "\n",
        "2.Performance Monitoring – Logs can provide insights into the execution time of different parts of a program, helping optimize performance.\n",
        "\n",
        "3.Audit Trail – Logs create a record of significant events, which can be useful for security audits, compliance checks, and tracking user activities.\n",
        "\n",
        "4.Remote Issue Diagnosis – If a program is running on a remote system, logs help developers analyze issues without direct access to the system.\n",
        "\n",
        "11.What is memory management in Python?\n",
        "- Memory management in Python is the process of efficiently allocating, tracking, and freeing up memory during a program's execution. Python uses an automatic memory management system, which includes the following key components:\n",
        "1. Private Heap Space.\n",
        "2. Memory Management Mechanisms.\n",
        "3. Memory Optimization Techniques.\n",
        "4. Tools for Memory Analysis.\n",
        "\n",
        "12.What are the basic steps involved in exception handling in Python?\n",
        "- Basic Steps in Exception Handling in Python -\n",
        "Exception handling in Python is done using the try-except block to manage runtime errors and prevent program crashes. Here are the basic steps involved:\n",
        "1. Identify the Code That May Cause an Exception\n",
        "Place the code that might raise an error inside a try block.\n",
        "2. Handle Exceptions Using except Blocks\n",
        "Use one or more except blocks to catch and handle specific exceptions.\n",
        "3. Use else for Code That Runs If No Exception Occurs (Optional)\n",
        "The else block runs only if no exception is raised in the try block.\n",
        "4. Use finally for Cleanup Code (Optional)\n",
        "The finally block always executes, regardless of whether an exception occurs or not.\n",
        "Useful for resource cleanup (e.g., closing files or database connections).\n",
        "\n",
        "13.Why is memory management important in Python?\n",
        "- 1. Optimizes Performance\n",
        "Inefficient memory usage can slow down execution.\n",
        "Python uses memory pools and garbage collection to improve performance.\n",
        "Proper memory management reduces lag and improves responsiveness in applications.\n",
        "2. Prevents Out-of-Memory Errors\n",
        "In large applications (like data processing, ML models, and web servers), memory can be exhausted.\n",
        "Managing memory properly ensures that the program does not crash due to excessive consumption.\n",
        "\n",
        "14. What is the role of try and except in exception handling?\n",
        "- Role of try:\n",
        "The try block contains the code that might raise an exception.\n",
        "If no exception occurs, the program executes normally.\n",
        "If an exception occurs, execution immediately stops in the try block, and Python looks for a matching except block.\n",
        "- Role of except:\n",
        "The except block handles the exception raised in the try block.\n",
        "Prevents the program from crashing.\n",
        "Can handle specific exceptions or multiple exceptions.\n",
        "\n",
        "15.How does Python's garbage collection system work?\n",
        "- python automatically manages memory using a garbage collection (GC) system to free up memory occupiee source usage.\n",
        "= How Python's Garbage Collectiod by unused objects. This prevents memory leaks and optimizes rn Works\n",
        "Python's garbage collection relies on main mechanisms that is :\n",
        "1. Reference Counting\n",
        "Every object in Python has an associated reference count (i.e., the number of variables pointing to it).\n",
        "When an object’s reference count drops to zero, Python immediately deallocates it.\n",
        "\n",
        "16.What is the purpose of the else block in exception handling?\n",
        "- Purpose of the else Block in Exception Handling in Python\n",
        "The else block in Python’s exception handling executes code only if no exception occurs in the try block. It is an optional part of the try-except structure and helps separate normal execution from error handling.\n",
        "\n",
        "17.What are the common logging levels in Python?\n",
        "- Common Logging Levels in Python\n",
        "Python’s logging module provides five standard logging levels to indicate the severity of messages. These levels help categorize logs based on their importance.\n",
        "-  When to Use Each Logging Level?\n",
        "✔ DEBUG → While developing & troubleshooting issues.\n",
        "✔ INFO → To track the normal flow of execution.\n",
        "✔ WARNING → When something might cause a problem but isn't an error yet.\n",
        "✔ ERROR → When a function or module fails to execute properly.\n",
        "✔ CRITICAL → For serious failures that may require immediate attention.\n",
        "\n",
        "18.what is the difference between os.fork() and multiprocessing in Python?\n",
        "- 1. os.fork() (Low-Level Process Creation)\n",
        "os.fork() is a Unix-specific function that creates a new child process by duplicating the current process.\n",
        "It is not available on Windows.\n",
        "The child process starts as an exact copy of the parent.\n",
        "The parent and child processes run independently after forking.\n",
        "2. multiprocessing (High-Level Process Management)\n",
        "The multiprocessing module is a cross-platform way to create multiple processes.\n",
        "It spawns new processes instead of duplicating the parent process.\n",
        "Each process gets its own memory space (safer for data sharing).\n",
        "Provides features like process pools, shared memory, and inter-process communication (IPC).\n",
        "\n",
        "19.What is the importance of closing a file in Python?\n",
        "- Closing a file in Python using file.close() is crucial for resource management, data integrity, and avoiding memory leaks.\n",
        "Why is Closing a File Important?\n",
        "1. Frees System Resources\n",
        "Every open file consumes system resources (memory, file descriptors).\n",
        "Failing to close files can exhaust system resources, especially in large applications.\n",
        "\n",
        "20.What is the difference between file.read() and file.readline() in Python?\n",
        "- 1. file.read\n",
        "Reads the entire file as a single string (unless a size is specified).\n",
        "If size is provided, it reads only that many bytes/characters.\n",
        "Used when you need to process the entire file at once.\n",
        "- 2. file.readline()\n",
        "Reads only one line at a time.\n",
        "Useful when processing a file line by line, especially for large files.\n",
        "\n",
        "21.What is the logging module in Python used for?\n",
        "- The logging module in Python is used for tracking events and debugging in a program. It allows developers to record messages at different severity levels and store logs in files, consoles, or other output streams.\n",
        "\n",
        "22. What is the os module in Python used for in file handling?\n",
        "- The os module in Python provides functions to interact with the operating system, including file handling operations like creating, deleting, renaming, and navigating directories.\n",
        "\n",
        "23.What are the challenges associated with memory management in Python?\n",
        "- Python has automatic memory management with garbage collection (GC) and dynamic memory allocation, but it still faces certain challenges.\n",
        "Memory Leaks\n",
        "- Python handles memory automatically, but improper references can prevent garbage collection.\n",
        "- High Memory Usage Due to Object Overhead\n",
        "Python objects have extra metadata (like reference counts and type information), making them larger than C/C++ objects.\n",
        "\n",
        "24. How do you raise an exception manually in Python?\n",
        "- How to Raise an Exception Manually in Python\n",
        "In Python, you can manually raise an exception using the raise keyword. This is useful when you want to enforce certain conditions or handle unexpected situations in your code.\n",
        "\n",
        "25. Why is it important to use multithreading in certain applications?\n",
        "- Importance of Using Multithreading in Certain Applications-\n",
        "Multithreading is useful in applications where tasks can run concurrently, improving efficiency and responsiveness. It allows multiple threads (smaller units of a process) to execute simultaneously, making better use of system resources.\n",
        "\n",
        "\n"
      ]
    },
    {
      "cell_type": "markdown",
      "source": [
        "# 1.How can you open a file for writing in Python and write a string to it?"
      ],
      "metadata": {
        "id": "Av_aX9TGd4R3"
      }
    },
    {
      "cell_type": "code",
      "execution_count": null,
      "metadata": {
        "colab": {
          "base_uri": "https://localhost:8080/"
        },
        "id": "UFaHXtRlKdaB",
        "outputId": "df6eb9e1-0db1-49ec-9216-b71dd4541586"
      },
      "outputs": [
        {
          "name": "stdout",
          "output_type": "stream",
          "text": [
            "File written successfully.\n"
          ]
        }
      ],
      "source": [
        "with open(\"example.txt\", \"w\") as file:\n",
        "    file.write(\"Hello, this is a sample text.\")\n",
        "\n",
        "print(\"File written successfully.\")\n"
      ]
    },
    {
      "cell_type": "markdown",
      "metadata": {
        "id": "np2sLhZQL7Z6"
      },
      "source": [
        "2.Write a Python program to read the contents of a file and print each line?"
      ]
    },
    {
      "cell_type": "code",
      "execution_count": null,
      "metadata": {
        "colab": {
          "base_uri": "https://localhost:8080/"
        },
        "id": "pvOMTk0MMDFb",
        "outputId": "402155b7-6145-4616-a78f-c9e5fba833c2"
      },
      "outputs": [
        {
          "name": "stdout",
          "output_type": "stream",
          "text": [
            "Hello, this is a sample text.\n"
          ]
        }
      ],
      "source": [
        "with open(\"example.txt\", \"r\") as file:\n",
        "    for line in file:\n",
        "        print(line.strip())\n"
      ]
    },
    {
      "cell_type": "markdown",
      "metadata": {
        "id": "7H6fWvAEMbW6"
      },
      "source": [
        "3.How would you handle a case where the file doesn't exist while trying to open it for reading?"
      ]
    },
    {
      "cell_type": "code",
      "execution_count": null,
      "metadata": {
        "colab": {
          "base_uri": "https://localhost:8080/"
        },
        "id": "NLa5nxbEMpPo",
        "outputId": "7bed818d-7664-4210-f8a8-6d29b9cd65c5"
      },
      "outputs": [
        {
          "name": "stdout",
          "output_type": "stream",
          "text": [
            "Hello, this is a sample text.\n"
          ]
        }
      ],
      "source": [
        "try:\n",
        "    with open(\"example.txt\", \"r\") as file:\n",
        "        for line in file:\n",
        "            print(line.strip())\n",
        "except FileNotFoundError:\n",
        "    print(\"Error: The file does not exist. Please check the file name and try again.\")\n"
      ]
    },
    {
      "cell_type": "markdown",
      "metadata": {
        "id": "QtNItneZMyga"
      },
      "source": [
        "4. Write a Python script that reads from one file and writes its content to another file?"
      ]
    },
    {
      "cell_type": "code",
      "execution_count": null,
      "metadata": {
        "colab": {
          "base_uri": "https://localhost:8080/"
        },
        "id": "tZ2zxQniNAuJ",
        "outputId": "9f9b89c4-823f-49fb-ddeb-e11ca569f70b"
      },
      "outputs": [
        {
          "name": "stdout",
          "output_type": "stream",
          "text": [
            "Error: The source file does not exist.\n"
          ]
        }
      ],
      "source": [
        "try:\n",
        "    with open(\"source.txt\", \"r\") as source_file, open(\"destination.txt\", \"w\") as destination_file:\n",
        "        for line in source_file:\n",
        "            destination_file.write(line)\n",
        "    print(\"File copied successfully.\")\n",
        "except FileNotFoundError:\n",
        "    print(\"Error: The source file does not exist.\")\n",
        "except Exception as e:\n",
        "    print(f\"An error occurred: {e}\")\n"
      ]
    },
    {
      "cell_type": "markdown",
      "metadata": {
        "id": "EXYl-2r_NF6H"
      },
      "source": [
        "5.How would you catch and handle division by zero error in Python?"
      ]
    },
    {
      "cell_type": "code",
      "execution_count": null,
      "metadata": {
        "colab": {
          "base_uri": "https://localhost:8080/"
        },
        "id": "DFTyzgQwNT_G",
        "outputId": "77a8aa85-eaf0-4696-836a-99068392dfe9"
      },
      "outputs": [
        {
          "name": "stdout",
          "output_type": "stream",
          "text": [
            "Enter numerator: 23\n",
            "Enter denominator: 5\n",
            "Result: 4.6\n"
          ]
        }
      ],
      "source": [
        "try:\n",
        "    numerator = int(input(\"Enter numerator: \"))\n",
        "    denominator = int(input(\"Enter denominator: \"))\n",
        "    result = numerator / denominator\n",
        "    print(f\"Result: {result}\")\n",
        "except ZeroDivisionError:\n",
        "    print(\"Error: Division by zero is not allowed.\")\n",
        "except ValueError:\n",
        "    print(\"Error: Please enter valid integers.\")"
      ]
    },
    {
      "cell_type": "markdown",
      "metadata": {
        "id": "AcviL_JHNgQN"
      },
      "source": [
        "6. Write a Python program that logs an error message to a log file when a division by zero exception occurs?\n"
      ]
    },
    {
      "cell_type": "code",
      "execution_count": null,
      "metadata": {
        "colab": {
          "base_uri": "https://localhost:8080/"
        },
        "id": "cxPo06g7NqBc",
        "outputId": "906b4155-b954-4a04-e8c9-8cb785b5e414"
      },
      "outputs": [
        {
          "name": "stdout",
          "output_type": "stream",
          "text": [
            "Enter numerator: 2\n",
            "Enter denominator: 4\n",
            "Result: 0.5\n",
            "Check error.log for error details.\n"
          ]
        }
      ],
      "source": [
        "import logging\n",
        "\n",
        "logging.basicConfig(filename=\"error.log\", level=logging.ERROR,\n",
        "                    format=\"%(asctime)s - %(levelname)s - %(message)s\")\n",
        "\n",
        "def divide_numbers(a, b):\n",
        "    try:\n",
        "        result = a / b\n",
        "        print(f\"Result: {result}\")\n",
        "    except ZeroDivisionError:\n",
        "        logging.error(\"Division by zero error occurred.\")\n",
        "        print(\"Error: Division by zero is not allowed.\")\n",
        "    except Exception as e:\n",
        "        logging.error(f\"An unexpected error occurred: {e}\")\n",
        "        print(\"An unexpected error occurred.\")\n",
        "\n",
        "num1 = int(input(\"Enter numerator: \"))\n",
        "num2 = int(input(\"Enter denominator: \"))\n",
        "divide_numbers(num1, num2)\n",
        "\n",
        "print(\"Check error.log for error details.\")\n"
      ]
    },
    {
      "cell_type": "markdown",
      "metadata": {
        "id": "0ZrViDDxOFOv"
      },
      "source": [
        "7. How do you log information at different levels (INFO, ERROR, WARNING) in Python using the logging module?"
      ]
    },
    {
      "cell_type": "code",
      "execution_count": null,
      "metadata": {
        "colab": {
          "base_uri": "https://localhost:8080/"
        },
        "id": "f3PUUKuXOH-d",
        "outputId": "8791e349-c33b-4786-de94-3d0720578613"
      },
      "outputs": [
        {
          "name": "stderr",
          "output_type": "stream",
          "text": [
            "WARNING:root:This is a warning message (something might be wrong).\n",
            "ERROR:root:This is an error message (an error occurred).\n",
            "CRITICAL:root:This is a critical message (serious issue, program might crash).\n"
          ]
        },
        {
          "name": "stdout",
          "output_type": "stream",
          "text": [
            "Logging complete. Check app.log for details.\n"
          ]
        }
      ],
      "source": [
        "import logging\n",
        "\n",
        "# Configure logging: log to a file with a specific format\n",
        "logging.basicConfig(\n",
        "    filename=\"app.log\",\n",
        "    level=logging.DEBUG,\n",
        "    format=\"%(asctime)s - %(levelname)s - %(message)s\"\n",
        ")\n",
        "\n",
        "# Log messages at different levels\n",
        "logging.debug(\"This is a debug message (useful for debugging).\")\n",
        "logging.info(\"This is an info message (general program execution).\")\n",
        "logging.warning(\"This is a warning message (something might be wrong).\")\n",
        "logging.error(\"This is an error message (an error occurred).\")\n",
        "logging.critical(\"This is a critical message (serious issue, program might crash).\")\n",
        "\n",
        "print(\"Logging complete. Check app.log for details.\")\n"
      ]
    },
    {
      "cell_type": "markdown",
      "metadata": {
        "id": "_roEbyyiOXcD"
      },
      "source": [
        "8. Write a program to handle a file opening error using exception handling?"
      ]
    },
    {
      "cell_type": "code",
      "execution_count": null,
      "metadata": {
        "colab": {
          "base_uri": "https://localhost:8080/"
        },
        "id": "TK7EgwViOgu-",
        "outputId": "cee9e567-8946-481b-80f8-b1b5da9744a6"
      },
      "outputs": [
        {
          "name": "stdout",
          "output_type": "stream",
          "text": [
            "Enter the filename to open: file.read()\n",
            "Error: The file does not exist. Please check the filename and try again.\n"
          ]
        }
      ],
      "source": [
        "try:\n",
        "    filename = input(\"Enter the filename to open: \")\n",
        "    with open(filename, \"r\") as file:\n",
        "        content = file.read()\n",
        "        print(\"File content:\\n\", content)\n",
        "except FileNotFoundError:\n",
        "    print(\"Error: The file does not exist. Please check the filename and try again.\")\n",
        "except PermissionError:\n",
        "    print(\"Error: You do not have permission to access this file.\")\n",
        "except Exception as e:\n",
        "    print(f\"An unexpected error occurred: {e}\")\n"
      ]
    },
    {
      "cell_type": "markdown",
      "metadata": {
        "id": "1CJus4-SOxs6"
      },
      "source": [
        "9. How can you read a file line by line and store its content in a list in Python?"
      ]
    },
    {
      "cell_type": "code",
      "execution_count": null,
      "metadata": {
        "colab": {
          "base_uri": "https://localhost:8080/"
        },
        "id": "C078FJwdO8BO",
        "outputId": "20e9cfbe-6dbe-4706-947f-c7c3cb0de6d8"
      },
      "outputs": [
        {
          "name": "stdout",
          "output_type": "stream",
          "text": [
            "['Hello, this is a sample text.']\n"
          ]
        }
      ],
      "source": [
        "with open(\"example.txt\", \"r\") as file:\n",
        "    lines = file.readlines()\n",
        "\n",
        "print(lines)\n"
      ]
    },
    {
      "cell_type": "markdown",
      "metadata": {
        "id": "tOOxtzOqPEbN"
      },
      "source": [
        "10.How can you append data to an existing file in Python?"
      ]
    },
    {
      "cell_type": "code",
      "execution_count": null,
      "metadata": {
        "id": "wcuK-FL7PMnW"
      },
      "outputs": [],
      "source": [
        "with open(\"example.txt\", \"a\") as file:\n",
        "    file.write(\"\\nThis is new appended text.\")\n",
        "with open(\"example.txt\", \"a\") as file:\n",
        "    file.writelines([\"\\nAppending line 1\", \"\\nAppending line 2\"])\n"
      ]
    },
    {
      "cell_type": "markdown",
      "metadata": {
        "id": "jer8KJQHPeHj"
      },
      "source": [
        "11. Write a Python program that uses a try-except block to handle an error when attempting to access a dictionary key that doesn't exist?"
      ]
    },
    {
      "cell_type": "code",
      "execution_count": null,
      "metadata": {
        "colab": {
          "base_uri": "https://localhost:8080/"
        },
        "id": "Rvdf1kg3RdD9",
        "outputId": "96605ed5-fdac-4112-9b48-de0664729d23"
      },
      "outputs": [
        {
          "name": "stdout",
          "output_type": "stream",
          "text": [
            "Enter student name: subhi\n",
            "Error: Student 'subhi' not found in the records.\n"
          ]
        }
      ],
      "source": [
        "student_scores = {\"Alice\": 85, \"Bob\": 90, \"Charlie\": 78}\n",
        "\n",
        "try:\n",
        "    name = input(\"Enter student name: \")\n",
        "    score = student_scores[name]\n",
        "    print(f\"{name}'s score: {score}\")\n",
        "except KeyError:\n",
        "    print(f\"Error: Student '{name}' not found in the records.\")\n"
      ]
    },
    {
      "cell_type": "markdown",
      "metadata": {
        "id": "foXBOBIrRqbt"
      },
      "source": [
        "12.Write a program that demonstrates using multiple except blocks to handle different types of exceptions ?"
      ]
    },
    {
      "cell_type": "code",
      "execution_count": null,
      "metadata": {
        "colab": {
          "base_uri": "https://localhost:8080/"
        },
        "id": "dHiEh7l3R4eC",
        "outputId": "406d7aa6-8d2a-4b85-b823-326644c15cde"
      },
      "outputs": [
        {
          "name": "stdout",
          "output_type": "stream",
          "text": [
            "Enter numerator: 1\n",
            "Enter denominator: 1\n",
            "Result: 1.0\n",
            "Enter a dictionary key to access: 12\n",
            "Error: The key you entered does not exist in the dictionary.\n",
            "Program execution completed.\n"
          ]
        }
      ],
      "source": [
        "try:\n",
        "    num1 = int(input(\"Enter numerator: \"))\n",
        "    num2 = int(input(\"Enter denominator: \"))\n",
        "\n",
        "    result = num1 / num2\n",
        "    print(f\"Result: {result}\")\n",
        "\n",
        "    data = {\"name\": \"Alice\", \"age\": 25}\n",
        "    key = input(\"Enter a dictionary key to access: \")\n",
        "    print(f\"Value: {data[key]}\")\n",
        "\n",
        "except ZeroDivisionError:\n",
        "    print(\"Error: Division by zero is not allowed.\")\n",
        "except ValueError:\n",
        "    print(\"Error: Invalid input! Please enter a valid integer.\")\n",
        "except KeyError:\n",
        "    print(\"Error: The key you entered does not exist in the dictionary.\")\n",
        "except Exception as e:\n",
        "    print(f\"An unexpected error occurred: {e}\")\n",
        "\n",
        "print(\"Program execution completed.\")\n"
      ]
    },
    {
      "cell_type": "markdown",
      "metadata": {
        "id": "V5rxHk8ISS4U"
      },
      "source": [
        "13.How would you check if a file exists before attempting to read it in Python?"
      ]
    },
    {
      "cell_type": "code",
      "execution_count": null,
      "metadata": {
        "colab": {
          "base_uri": "https://localhost:8080/"
        },
        "id": "GzDDtjvESXZt",
        "outputId": "8b513198-da4f-4f50-9d26-e30a05cd3dcb"
      },
      "outputs": [
        {
          "name": "stdout",
          "output_type": "stream",
          "text": [
            "File content:\n",
            " Hello, this is a sample text.\n",
            "This is new appended text.\n",
            "This is new appended text.\n",
            "This is new appended text.\n",
            "Appending line 1\n",
            "Appending line 2\n"
          ]
        }
      ],
      "source": [
        "import os\n",
        "\n",
        "filename = \"example.txt\"\n",
        "\n",
        "if os.path.exists(filename):\n",
        "    with open(filename, \"r\") as file:\n",
        "        content = file.read()\n",
        "        print(\"File content:\\n\", content)\n",
        "else:\n",
        "    print(\"Error: The file does not exist.\")\n"
      ]
    },
    {
      "cell_type": "markdown",
      "metadata": {
        "id": "FLS7Thb6SjEN"
      },
      "source": [
        "14.Write a program that uses the logging module to log both informational and error messages ?"
      ]
    },
    {
      "cell_type": "code",
      "execution_count": null,
      "metadata": {
        "colab": {
          "base_uri": "https://localhost:8080/"
        },
        "id": "cz1OFxsYStVk",
        "outputId": "4a6d669f-d4b1-47e1-8741-64ad94db271e"
      },
      "outputs": [
        {
          "name": "stdout",
          "output_type": "stream",
          "text": [
            "Enter numerator: 2\n",
            "Enter denominator: 6\n",
            "Check app.log for details.\n"
          ]
        }
      ],
      "source": [
        "import logging\n",
        "\n",
        "# Configure logging: log to a file with INFO and ERROR levels\n",
        "logging.basicConfig(\n",
        "    filename=\"app.log\",\n",
        "    level=logging.INFO,  # Logs INFO and higher levels (WARNING, ERROR, CRITICAL)\n",
        "    format=\"%(asctime)s - %(levelname)s - %(message)s\"\n",
        ")\n",
        "\n",
        "def divide_numbers(a, b):\n",
        "    try:\n",
        "        result = a / b\n",
        "        logging.info(f\"Division successful: {a} / {b} = {result}\")\n",
        "        return result\n",
        "    except ZeroDivisionError:\n",
        "        logging.error(\"Attempted division by zero.\")\n",
        "        print(\"Error: Division by zero is not allowed.\")\n",
        "    except Exception as e:\n",
        "        logging.error(f\"An unexpected error occurred: {e}\")\n",
        "        print(f\"An unexpected error occurred: {e}\")\n",
        "\n",
        "# Example usage\n",
        "logging.info(\"Program started.\")\n",
        "\n",
        "num1 = int(input(\"Enter numerator: \"))\n",
        "num2 = int(input(\"Enter denominator: \"))\n",
        "divide_numbers(num1, num2)\n",
        "\n",
        "logging.info(\"Program execution completed.\")\n",
        "\n",
        "print(\"Check app.log for details.\")\n"
      ]
    },
    {
      "cell_type": "markdown",
      "metadata": {
        "id": "sJklq2rmTBEd"
      },
      "source": [
        "15.Write a Python program that prints the content of a file and handles the case when the file is empty?"
      ]
    },
    {
      "cell_type": "code",
      "execution_count": null,
      "metadata": {
        "colab": {
          "base_uri": "https://localhost:8080/"
        },
        "id": "tJ044efeTDVn",
        "outputId": "e63388f3-40e0-4a94-b582-1b935ed699f3"
      },
      "outputs": [
        {
          "name": "stdout",
          "output_type": "stream",
          "text": [
            "Enter the filename: filename, \"r\"\n",
            "Error: The file does not exist.\n"
          ]
        }
      ],
      "source": [
        "def read_file(filename):\n",
        "    try:\n",
        "        with open(filename, \"r\") as file:\n",
        "            content = file.read()\n",
        "\n",
        "            if not content:\n",
        "                print(\"The file is empty.\")\n",
        "            else:\n",
        "                print(\"File content:\\n\", content)\n",
        "\n",
        "    except FileNotFoundError:\n",
        "        print(\"Error: The file does not exist.\")\n",
        "    except Exception as e:\n",
        "        print(f\"An unexpected error occurred: {e}\")\n",
        "filename = input(\"Enter the filename: \")\n",
        "read_file(filename)\n"
      ]
    },
    {
      "cell_type": "markdown",
      "metadata": {
        "id": "otQbLAXQTOwX"
      },
      "source": [
        "16.Demonstrate how to use memory profiling to check the memory usage of a small program?"
      ]
    },
    {
      "cell_type": "code",
      "source": [
        "from memory_profiler import profile\n",
        "\n",
        "@profile\n",
        "def my_function():\n",
        "    data = [x ** 2 for x in range(100000)]  # Creates a large list in memory\n",
        "    return sum(data)\n",
        "\n",
        "if __name__ == \"__main__\":\n",
        "    my_function()\n"
      ],
      "metadata": {
        "colab": {
          "base_uri": "https://localhost:8080/",
          "height": 383
        },
        "id": "qpd7SFhfauPL",
        "outputId": "c8e34eb8-b2e4-4cf6-d8ac-8afffb4590db"
      },
      "execution_count": 7,
      "outputs": [
        {
          "output_type": "error",
          "ename": "ModuleNotFoundError",
          "evalue": "No module named 'memory_profiler'",
          "traceback": [
            "\u001b[0;31m---------------------------------------------------------------------------\u001b[0m",
            "\u001b[0;31mModuleNotFoundError\u001b[0m                       Traceback (most recent call last)",
            "\u001b[0;32m<ipython-input-7-63d4ad823030>\u001b[0m in \u001b[0;36m<cell line: 0>\u001b[0;34m()\u001b[0m\n\u001b[0;32m----> 1\u001b[0;31m \u001b[0;32mfrom\u001b[0m \u001b[0mmemory_profiler\u001b[0m \u001b[0;32mimport\u001b[0m \u001b[0mprofile\u001b[0m\u001b[0;34m\u001b[0m\u001b[0;34m\u001b[0m\u001b[0m\n\u001b[0m\u001b[1;32m      2\u001b[0m \u001b[0;34m\u001b[0m\u001b[0m\n\u001b[1;32m      3\u001b[0m \u001b[0;34m@\u001b[0m\u001b[0mprofile\u001b[0m\u001b[0;34m\u001b[0m\u001b[0;34m\u001b[0m\u001b[0m\n\u001b[1;32m      4\u001b[0m \u001b[0;32mdef\u001b[0m \u001b[0mmy_function\u001b[0m\u001b[0;34m(\u001b[0m\u001b[0;34m)\u001b[0m\u001b[0;34m:\u001b[0m\u001b[0;34m\u001b[0m\u001b[0;34m\u001b[0m\u001b[0m\n\u001b[1;32m      5\u001b[0m     \u001b[0mdata\u001b[0m \u001b[0;34m=\u001b[0m \u001b[0;34m[\u001b[0m\u001b[0mx\u001b[0m \u001b[0;34m**\u001b[0m \u001b[0;36m2\u001b[0m \u001b[0;32mfor\u001b[0m \u001b[0mx\u001b[0m \u001b[0;32min\u001b[0m \u001b[0mrange\u001b[0m\u001b[0;34m(\u001b[0m\u001b[0;36m100000\u001b[0m\u001b[0;34m)\u001b[0m\u001b[0;34m]\u001b[0m  \u001b[0;31m# Creates a large list in memory\u001b[0m\u001b[0;34m\u001b[0m\u001b[0;34m\u001b[0m\u001b[0m\n",
            "\u001b[0;31mModuleNotFoundError\u001b[0m: No module named 'memory_profiler'",
            "",
            "\u001b[0;31m---------------------------------------------------------------------------\u001b[0;32m\nNOTE: If your import is failing due to a missing package, you can\nmanually install dependencies using either !pip or !apt.\n\nTo view examples of installing some common dependencies, click the\n\"Open Examples\" button below.\n\u001b[0;31m---------------------------------------------------------------------------\u001b[0m\n"
          ],
          "errorDetails": {
            "actions": [
              {
                "action": "open_url",
                "actionText": "Open Examples",
                "url": "/notebooks/snippets/importing_libraries.ipynb"
              }
            ]
          }
        }
      ]
    },
    {
      "cell_type": "markdown",
      "metadata": {
        "id": "KDBlkO6fT1Nj"
      },
      "source": [
        "17.Write a Python program to create and write a list of numbers to a file, one number per line?\n"
      ]
    },
    {
      "cell_type": "code",
      "execution_count": null,
      "metadata": {
        "colab": {
          "base_uri": "https://localhost:8080/"
        },
        "id": "MUQiZQxoUJXi",
        "outputId": "c54ac1d0-b150-4649-8a45-63fdb895ee5f"
      },
      "outputs": [
        {
          "name": "stdout",
          "output_type": "stream",
          "text": [
            "Successfully wrote 10 numbers to numbers.txt\n"
          ]
        }
      ],
      "source": [
        "def write_numbers_to_file(filename, numbers):\n",
        "    try:\n",
        "        with open(filename, \"w\") as file:\n",
        "            for number in numbers:\n",
        "                file.write(f\"{number}\\n\")\n",
        "        print(f\"Successfully wrote {len(numbers)} numbers to {filename}\")\n",
        "    except Exception as e:\n",
        "        print(f\"An error occurred: {e}\")\n",
        "\n",
        "numbers = list(range(1, 11))\n",
        "write_numbers_to_file(\"numbers.txt\", numbers)\n"
      ]
    },
    {
      "cell_type": "markdown",
      "source": [
        "18.How would you implement a basic logging setup that logs to a file with rotation after 1MB?"
      ],
      "metadata": {
        "id": "jnYLeH_7co8k"
      }
    },
    {
      "cell_type": "code",
      "source": [
        "import logging\n",
        "from logging.handlers import RotatingFileHandle\n",
        "\n",
        "log_file = \"app.log\"\n",
        "max_size = 10\n",
        "backup_count = 5\n",
        "\n",
        "handler = RotatingFileHandler(log_file, maxBytes=max_size, backupCount=backup_count)\n",
        "handler.setLevel(logging.INFO)\n",
        "\n",
        "formatter = logging.Formatter(\"%(asctime)s - %(levelname)s - %(message)s\")\n",
        "handler.setFormatter(formatter)\n",
        "\n",
        "logger = logging.getLogger(\"MyLogger\")\n",
        "logger.setLevel(logging.INFO)\n",
        "logger.addHandler(handler)\n",
        "\n",
        "for i in range(10000):\n",
        "    logger.info(f\"Logging message {i}\")\n",
        "\n",
        "print(f\"Logging to '{log_file}' with rotation after {max_size} bytes.\")\n"
      ],
      "metadata": {
        "colab": {
          "base_uri": "https://localhost:8080/",
          "height": 401
        },
        "id": "uDPYBxbdcuj9",
        "outputId": "13b887f1-847b-4548-9a87-7499a4a3065c"
      },
      "execution_count": 15,
      "outputs": [
        {
          "output_type": "error",
          "ename": "ImportError",
          "evalue": "cannot import name 'RotatingFileHandle' from 'logging.handlers' (/usr/lib/python3.11/logging/handlers.py)",
          "traceback": [
            "\u001b[0;31m---------------------------------------------------------------------------\u001b[0m",
            "\u001b[0;31mImportError\u001b[0m                               Traceback (most recent call last)",
            "\u001b[0;32m<ipython-input-15-ad15713d7921>\u001b[0m in \u001b[0;36m<cell line: 0>\u001b[0;34m()\u001b[0m\n\u001b[1;32m      1\u001b[0m \u001b[0;32mimport\u001b[0m \u001b[0mlogging\u001b[0m\u001b[0;34m\u001b[0m\u001b[0;34m\u001b[0m\u001b[0m\n\u001b[0;32m----> 2\u001b[0;31m \u001b[0;32mfrom\u001b[0m \u001b[0mlogging\u001b[0m\u001b[0;34m.\u001b[0m\u001b[0mhandlers\u001b[0m \u001b[0;32mimport\u001b[0m \u001b[0mRotatingFileHandle\u001b[0m\u001b[0;34m\u001b[0m\u001b[0;34m\u001b[0m\u001b[0m\n\u001b[0m\u001b[1;32m      3\u001b[0m \u001b[0;34m\u001b[0m\u001b[0m\n\u001b[1;32m      4\u001b[0m \u001b[0mlog_file\u001b[0m \u001b[0;34m=\u001b[0m \u001b[0;34m\"app.log\"\u001b[0m\u001b[0;34m\u001b[0m\u001b[0;34m\u001b[0m\u001b[0m\n\u001b[1;32m      5\u001b[0m \u001b[0mmax_size\u001b[0m \u001b[0;34m=\u001b[0m \u001b[0;36m10\u001b[0m\u001b[0;34m\u001b[0m\u001b[0;34m\u001b[0m\u001b[0m\n",
            "\u001b[0;31mImportError\u001b[0m: cannot import name 'RotatingFileHandle' from 'logging.handlers' (/usr/lib/python3.11/logging/handlers.py)",
            "",
            "\u001b[0;31m---------------------------------------------------------------------------\u001b[0;32m\nNOTE: If your import is failing due to a missing package, you can\nmanually install dependencies using either !pip or !apt.\n\nTo view examples of installing some common dependencies, click the\n\"Open Examples\" button below.\n\u001b[0;31m---------------------------------------------------------------------------\u001b[0m\n"
          ],
          "errorDetails": {
            "actions": [
              {
                "action": "open_url",
                "actionText": "Open Examples",
                "url": "/notebooks/snippets/importing_libraries.ipynb"
              }
            ]
          }
        }
      ]
    },
    {
      "cell_type": "markdown",
      "source": [
        "19.Write a program that handles both IndexError and KeyError using a try-except block?\n"
      ],
      "metadata": {
        "id": "kdUwdYoZZqvP"
      }
    },
    {
      "cell_type": "code",
      "source": [
        "def handle_exceptions():\n",
        "    my_list = [1, 2, 3]\n",
        "    my_dict = {\"a\": 10, \"b\": 20}\n",
        "\n",
        "    try:\n",
        "        # Attempt to access an out-of-range index\n",
        "        print(my_list[5])\n",
        "\n",
        "        # Attempt to access a non-existent key\n",
        "        print(my_dict[\"c\"])\n",
        "\n",
        "    except IndexError:\n",
        "        print(\"IndexError: Tried to access an index that is out of range.\")\n",
        "\n",
        "    except KeyError:\n",
        "        print(\"KeyError: Tried to access a non-existent key in the dictionary.\")\n",
        "\n",
        "# Run the function\n",
        "handle_exceptions()\n"
      ],
      "metadata": {
        "colab": {
          "base_uri": "https://localhost:8080/"
        },
        "id": "BGIJqgbhZ3tq",
        "outputId": "b8307c47-014a-4a52-c236-3ece32539c0f"
      },
      "execution_count": 2,
      "outputs": [
        {
          "output_type": "stream",
          "name": "stdout",
          "text": [
            "IndexError: Tried to access an index that is out of range.\n"
          ]
        }
      ]
    },
    {
      "cell_type": "markdown",
      "source": [
        "20.How would you open a file and read its contents using a context manager in Python?"
      ],
      "metadata": {
        "id": "qcMGJtTrZ9QW"
      }
    },
    {
      "cell_type": "code",
      "source": [
        "import os\n",
        "\n",
        "file_path = \"example.txt\"\n",
        "\n",
        "# Check if the file exists\n",
        "if os.path.exists(file_path):\n",
        "    with open(file_path, \"r\") as file:\n",
        "        content = file.read()\n",
        "        print(content)\n",
        "else:\n",
        "    print(f\"Error: The file '{file_path}' does not exist in the current directory.\")"
      ],
      "metadata": {
        "colab": {
          "base_uri": "https://localhost:8080/"
        },
        "id": "lzrCCicVakcV",
        "outputId": "a0a09da2-76e0-4b05-b249-97794f6883f1"
      },
      "execution_count": 6,
      "outputs": [
        {
          "output_type": "stream",
          "name": "stdout",
          "text": [
            "Error: The file 'example.txt' does not exist in the current directory.\n"
          ]
        }
      ]
    },
    {
      "cell_type": "markdown",
      "source": [
        "21.Write a Python program that reads a file and prints the number of occurrences of a specific wordF"
      ],
      "metadata": {
        "id": "J8k73XkybDNH"
      }
    },
    {
      "cell_type": "code",
      "source": [
        "def count_word_occurrences(file_path, word):\n",
        "    try:\n",
        "        with open(file_path, \"r\", encoding=\"utf-8\") as file:\n",
        "            content = file.read().lower()  # Read file content and convert to lowercase\n",
        "            words = content.split()  # Split into words\n",
        "            count = words.count(word.lower())  # Count occurrences (case-insensitive)\n",
        "        print(f\"The word '{word}' appears {count} times in '{file_path}'.\")\n",
        "    except FileNotFoundError:\n",
        "        print(f\"Error: The file '{file_path}' was not found.\")\n",
        "    except Exception as e:\n",
        "        print(f\"An error occurred: {e}\")\n",
        "\n",
        "# Example Usage\n",
        "file_path = \"example.txt\"  # Replace with your file name\n",
        "search_word = \"Python\"  # Replace with the word you want to count\n",
        "count_word_occurrences(file_path, search_word)\n"
      ],
      "metadata": {
        "colab": {
          "base_uri": "https://localhost:8080/"
        },
        "id": "3HAqtrDGbIqv",
        "outputId": "61478b77-6400-4b8b-afe2-4cfab80f4e85"
      },
      "execution_count": 8,
      "outputs": [
        {
          "output_type": "stream",
          "name": "stdout",
          "text": [
            "Error: The file 'example.txt' was not found.\n"
          ]
        }
      ]
    },
    {
      "cell_type": "markdown",
      "source": [
        "22.How can you check if a file is empty before attempting to read its contents?"
      ],
      "metadata": {
        "id": "ACaRUipFbS4_"
      }
    },
    {
      "cell_type": "code",
      "source": [
        "import os\n",
        "\n",
        "file_path = \"example.txt\"\n",
        "\n",
        "     if os.path.getsize(file_path) == 0:\n",
        "     print(\"The file is empty.\")\n",
        "else:\n",
        "    with open(file_path, \"r\") as file:\n",
        "        content = file.read()\n",
        "        print(\"File content:\", content)\n",
        "\n"
      ],
      "metadata": {
        "colab": {
          "base_uri": "https://localhost:8080/",
          "height": 106
        },
        "id": "PNTMgtQtbZ3J",
        "outputId": "312e79e3-39b6-4d4a-dbe1-2153914da2fc"
      },
      "execution_count": 12,
      "outputs": [
        {
          "output_type": "error",
          "ename": "IndentationError",
          "evalue": "unexpected indent (<ipython-input-12-dbffce0205ac>, line 5)",
          "traceback": [
            "\u001b[0;36m  File \u001b[0;32m\"<ipython-input-12-dbffce0205ac>\"\u001b[0;36m, line \u001b[0;32m5\u001b[0m\n\u001b[0;31m    if os.path.getsize(file_path) == 0:\u001b[0m\n\u001b[0m    ^\u001b[0m\n\u001b[0;31mIndentationError\u001b[0m\u001b[0;31m:\u001b[0m unexpected indent\n"
          ]
        }
      ]
    },
    {
      "cell_type": "markdown",
      "source": [
        "23.Write a Python program that writes to a log file when an error occurs during file handling?"
      ],
      "metadata": {
        "id": "zh9FrYXucFiw"
      }
    },
    {
      "cell_type": "code",
      "source": [
        "import logging\n",
        "\n",
        "# Configure logging\n",
        "log_file = \"error.log\"\n",
        "logging.basicConfig(\n",
        "    filename=log_file,\n",
        "    level=logging.ERROR,  # Log only error messages\n",
        "    format=\"%(asctime)s - %(levelname)s - %(message)s\",\n",
        ")\n",
        "\n",
        "def read_file(file_path):\n",
        "    \"\"\"Attempts to read a file and logs errors if they occur.\"\"\"\n",
        "    try:\n",
        "        with open(file_path, \"r\") as file:\n",
        "            content = file.read()\n",
        "            print(\"File contents:\\n\", content)\n",
        "    except FileNotFoundError:\n",
        "        logging.error(f\"File '{file_path}' not found.\")\n",
        "        print(f\"Error: The file '{file_path}' does not exist.\")\n",
        "    except PermissionError:\n",
        "        logging.error(f\"Permission denied for file '{file_path}'.\")\n",
        "        print(f\"Error: Permission denied for file '{file_path}'.\")\n",
        "    except Exception as e:\n",
        "        logging.error(f\"Unexpected error while reading '{file_path}': {e}\")\n",
        "        print(f\"Error: An unexpected issue occurred: {e}\")\n",
        "\n",
        "# Example Usage\n",
        "file_path = \"example.txt\"  # Replace with your filename\n",
        "read_file(file_path)\n",
        "\n",
        "print(f\"Check '{log_file}' for error logs.\")\n"
      ],
      "metadata": {
        "colab": {
          "base_uri": "https://localhost:8080/"
        },
        "id": "YGklIfHTcOOO",
        "outputId": "d782d24d-3da7-4b98-beb3-ee5cd108ec89"
      },
      "execution_count": 10,
      "outputs": [
        {
          "output_type": "stream",
          "name": "stderr",
          "text": [
            "ERROR:root:File 'example.txt' not found.\n"
          ]
        },
        {
          "output_type": "stream",
          "name": "stdout",
          "text": [
            "Error: The file 'example.txt' does not exist.\n",
            "Check 'error.log' for error logs.\n"
          ]
        }
      ]
    }
  ],
  "metadata": {
    "colab": {
      "provenance": []
    },
    "kernelspec": {
      "display_name": "Python 3",
      "name": "python3"
    },
    "language_info": {
      "name": "python"
    }
  },
  "nbformat": 4,
  "nbformat_minor": 0
}